{
 "cells": [
  {
   "cell_type": "code",
   "execution_count": 4,
   "metadata": {},
   "outputs": [
    {
     "name": "stderr",
     "output_type": "stream",
     "text": [
      "/usr/local/lib/python3.6/site-packages/ipykernel_launcher.py:30: DeprecationWarning: `imsave` is deprecated!\n",
      "`imsave` is deprecated in SciPy 1.0.0, and will be removed in 1.2.0.\n",
      "Use ``imageio.imwrite`` instead.\n"
     ]
    }
   ],
   "source": [
    "import keras\n",
    "import numpy as np\n",
    "from keras.preprocessing import image\n",
    "from keras.preprocessing.image import ImageDataGenerator\n",
    "from utility import *\n",
    "import os\n",
    "import tensorflow as tf\n",
    "from keras.backend import tensorflow_backend\n",
    "import time\n",
    "import random\n",
    "import scipy.misc as misc\n",
    "\n",
    "height = 256\n",
    "width = 256\n",
    "\n",
    "test_dir = 'content/coco_val_2014'\n",
    "num_data=10\n",
    "test_images = []\n",
    "test_names = os.listdir(test_dir)\n",
    "for name in test_names[0:num_data]:\n",
    "    img = image.load_img(test_dir+'/'+name, target_size=(height,width))\n",
    "    x = image.img_to_array(img)\n",
    "    test_images.append(x)\n",
    "test_images_array = np.stack(test_images)\n",
    "\n",
    "model = keras.models.load_model('./tmp20k.h5',custom_objects={'TVLoss':TVLoss, 'styleLoss1':styleLoss1, 'styleLoss2':styleLoss2, 'styleLoss3':styleLoss3, 'styleLoss4':styleLoss4, 'featureLoss':featureLoss})\n",
    "result = model.predict(test_images_array)[0]\n",
    "\n",
    "for i in range(0,num_data):\n",
    "    misc.imsave('./out/'+str(i)+'.jpg', result[i])\n",
    "    i+=1"
   ]
  },
  {
   "cell_type": "code",
   "execution_count": null,
   "metadata": {},
   "outputs": [],
   "source": []
  }
 ],
 "metadata": {
  "kernelspec": {
   "display_name": "Python 3",
   "language": "python",
   "name": "python3"
  },
  "language_info": {
   "codemirror_mode": {
    "name": "ipython",
    "version": 3
   },
   "file_extension": ".py",
   "mimetype": "text/x-python",
   "name": "python",
   "nbconvert_exporter": "python",
   "pygments_lexer": "ipython3",
   "version": "3.6.5"
  }
 },
 "nbformat": 4,
 "nbformat_minor": 2
}
